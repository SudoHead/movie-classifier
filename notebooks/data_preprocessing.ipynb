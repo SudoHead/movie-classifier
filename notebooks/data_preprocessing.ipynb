{
 "cells": [
  {
   "cell_type": "markdown",
   "metadata": {},
   "source": [
    "# Data Preprocessing\n",
    "\n",
    "This notebook shows "
   ]
  },
  {
   "cell_type": "code",
   "execution_count": 14,
   "metadata": {},
   "outputs": [
    {
     "name": "stderr",
     "output_type": "stream",
     "text": [
      "[nltk_data] Downloading package punkt to /home/jovyan/nltk_data...\n",
      "[nltk_data]   Package punkt is already up-to-date!\n",
      "[nltk_data] Downloading package wordnet to /home/jovyan/nltk_data...\n",
      "[nltk_data]   Package wordnet is already up-to-date!\n",
      "[nltk_data] Downloading package averaged_perceptron_tagger to\n",
      "[nltk_data]     /home/jovyan/nltk_data...\n",
      "[nltk_data]   Package averaged_perceptron_tagger is already up-to-\n",
      "[nltk_data]       date!\n",
      "[nltk_data] Downloading package stopwords to /home/jovyan/nltk_data...\n",
      "[nltk_data]   Package stopwords is already up-to-date!\n"
     ]
    },
    {
     "data": {
      "text/plain": [
       "True"
      ]
     },
     "execution_count": 14,
     "metadata": {},
     "output_type": "execute_result"
    }
   ],
   "source": [
    "import pandas as pd\n",
    "import numpy as np\n",
    "import matplotlib.pyplot as plt\n",
    "import re\n",
    "import json\n",
    "import nltk\n",
    "from nltk.corpus import wordnet\n",
    "import sklearn\n",
    "import seaborn as sns\n",
    "import unicodedata\n",
    "import inflect\n",
    "\n",
    "nltk.download('punkt')\n",
    "nltk.download('wordnet')\n",
    "nltk.download('averaged_perceptron_tagger')\n",
    "nltk.download('stopwords')"
   ]
  },
  {
   "cell_type": "markdown",
   "metadata": {},
   "source": [
    "Load the data:"
   ]
  },
  {
   "cell_type": "code",
   "execution_count": 15,
   "metadata": {},
   "outputs": [],
   "source": [
    "path = '../data/movies_metadata.csv'\n",
    "\n",
    "df = pd.read_csv(path)"
   ]
  },
  {
   "cell_type": "code",
   "execution_count": 16,
   "metadata": {},
   "outputs": [],
   "source": [
    "df = pd.concat([df['release_date'], df['title'], df['overview'], df['genres']], axis=1)\n",
    "\n",
    "# remove duplicates\n",
    "duplicate_rows = df[df.duplicated()]\n",
    "df.drop(duplicate_rows.index, inplace=True)"
   ]
  },
  {
   "cell_type": "markdown",
   "metadata": {},
   "source": [
    "#### Drop the NaN rows where either title or overview is NaN"
   ]
  },
  {
   "cell_type": "code",
   "execution_count": 17,
   "metadata": {},
   "outputs": [],
   "source": [
    "# convert empty string to NaN\n",
    "df['overview'].replace('', np.nan, inplace=True)\n",
    "df.dropna(subset=['release_date', 'title', 'overview'], inplace=True)\n",
    "\n",
    "# the release date is no longer necessary, because NaN are cleared\n",
    "del df['release_date']"
   ]
  },
  {
   "cell_type": "markdown",
   "metadata": {},
   "source": [
    "#### Drop rows with no overview info or blank"
   ]
  },
  {
   "cell_type": "code",
   "execution_count": 18,
   "metadata": {},
   "outputs": [
    {
     "name": "stderr",
     "output_type": "stream",
     "text": [
      "/opt/conda/lib/python3.7/site-packages/ipykernel_launcher.py:6: UserWarning: Boolean Series key will be reindexed to match DataFrame index.\n",
      "  \n"
     ]
    },
    {
     "data": {
      "text/html": [
       "<div>\n",
       "<style scoped>\n",
       "    .dataframe tbody tr th:only-of-type {\n",
       "        vertical-align: middle;\n",
       "    }\n",
       "\n",
       "    .dataframe tbody tr th {\n",
       "        vertical-align: top;\n",
       "    }\n",
       "\n",
       "    .dataframe thead th {\n",
       "        text-align: right;\n",
       "    }\n",
       "</style>\n",
       "<table border=\"1\" class=\"dataframe\">\n",
       "  <thead>\n",
       "    <tr style=\"text-align: right;\">\n",
       "      <th></th>\n",
       "      <th>title</th>\n",
       "      <th>overview</th>\n",
       "      <th>genres</th>\n",
       "    </tr>\n",
       "  </thead>\n",
       "  <tbody>\n",
       "    <tr>\n",
       "      <th>0</th>\n",
       "      <td>Toy Story</td>\n",
       "      <td>Led by Woody, Andy's toys live happily in his ...</td>\n",
       "      <td>[{'id': 16, 'name': 'Animation'}, {'id': 35, '...</td>\n",
       "    </tr>\n",
       "    <tr>\n",
       "      <th>1</th>\n",
       "      <td>Jumanji</td>\n",
       "      <td>When siblings Judy and Peter discover an encha...</td>\n",
       "      <td>[{'id': 12, 'name': 'Adventure'}, {'id': 14, '...</td>\n",
       "    </tr>\n",
       "    <tr>\n",
       "      <th>2</th>\n",
       "      <td>Grumpier Old Men</td>\n",
       "      <td>A family wedding reignites the ancient feud be...</td>\n",
       "      <td>[{'id': 10749, 'name': 'Romance'}, {'id': 35, ...</td>\n",
       "    </tr>\n",
       "    <tr>\n",
       "      <th>3</th>\n",
       "      <td>Waiting to Exhale</td>\n",
       "      <td>Cheated on, mistreated and stepped on, the wom...</td>\n",
       "      <td>[{'id': 35, 'name': 'Comedy'}, {'id': 18, 'nam...</td>\n",
       "    </tr>\n",
       "    <tr>\n",
       "      <th>4</th>\n",
       "      <td>Father of the Bride Part II</td>\n",
       "      <td>Just when George Banks has recovered from his ...</td>\n",
       "      <td>[{'id': 35, 'name': 'Comedy'}]</td>\n",
       "    </tr>\n",
       "  </tbody>\n",
       "</table>\n",
       "</div>"
      ],
      "text/plain": [
       "                         title  \\\n",
       "0                    Toy Story   \n",
       "1                      Jumanji   \n",
       "2             Grumpier Old Men   \n",
       "3            Waiting to Exhale   \n",
       "4  Father of the Bride Part II   \n",
       "\n",
       "                                            overview  \\\n",
       "0  Led by Woody, Andy's toys live happily in his ...   \n",
       "1  When siblings Judy and Peter discover an encha...   \n",
       "2  A family wedding reignites the ancient feud be...   \n",
       "3  Cheated on, mistreated and stepped on, the wom...   \n",
       "4  Just when George Banks has recovered from his ...   \n",
       "\n",
       "                                              genres  \n",
       "0  [{'id': 16, 'name': 'Animation'}, {'id': 35, '...  \n",
       "1  [{'id': 12, 'name': 'Adventure'}, {'id': 14, '...  \n",
       "2  [{'id': 10749, 'name': 'Romance'}, {'id': 35, ...  \n",
       "3  [{'id': 35, 'name': 'Comedy'}, {'id': 18, 'nam...  \n",
       "4                     [{'id': 35, 'name': 'Comedy'}]  "
      ]
     },
     "execution_count": 18,
     "metadata": {},
     "output_type": "execute_result"
    }
   ],
   "source": [
    "reg_404 = \"^not available|^no overview\"\n",
    "overview_not_found = df['overview'].str.contains(reg_404, regex=True, flags=re.IGNORECASE)\n",
    "overview_blank = df['overview'].str.isspace()\n",
    "\n",
    "df.drop(df[overview_not_found].index, inplace=True)\n",
    "df.drop(df[overview_blank].index, inplace=True)\n",
    "df.head()"
   ]
  },
  {
   "cell_type": "markdown",
   "metadata": {},
   "source": [
    "#### Transform column genre"
   ]
  },
  {
   "cell_type": "code",
   "execution_count": 19,
   "metadata": {},
   "outputs": [],
   "source": [
    "def extract_genres(genres_str):\n",
    "    genres_str = genres_str.replace(\"'\", '\\\"')\n",
    "    genres_json = json.loads(genres_str)\n",
    "    genres_list = []\n",
    "    for elem in genres_json:\n",
    "        genres_list.append(elem['name'])\n",
    "    return genres_list"
   ]
  },
  {
   "cell_type": "code",
   "execution_count": 20,
   "metadata": {},
   "outputs": [],
   "source": [
    "# remove rows with no genres, since they don't provide any information\n",
    "df.drop(df[df['genres'] == '[]'].index, inplace=True)\n",
    "\n",
    "# transform genres from string to list\n",
    "temp_genre = df['genres'].apply(extract_genres)"
   ]
  },
  {
   "cell_type": "code",
   "execution_count": 21,
   "metadata": {},
   "outputs": [],
   "source": [
    "# test conversion to list went ok\n",
    "g_set = set()\n",
    "for i, row in df['genres'].iteritems():\n",
    "    reg = ''\n",
    "    for genre in temp_genre[i]:\n",
    "        reg = reg + '(?=.*' + genre + ')'\n",
    "        g_set.add(genre)\n",
    "    if not re.search(reg, row) or len(temp_genre[i]) == 0:\n",
    "        print('FAILED: at i =', i , row)\n",
    "        print(reg)\n",
    "        break"
   ]
  },
  {
   "cell_type": "code",
   "execution_count": 22,
   "metadata": {},
   "outputs": [],
   "source": [
    "df['genres'] = temp_genre"
   ]
  },
  {
   "cell_type": "markdown",
   "metadata": {},
   "source": [
    "#### Visualise movie genres' distribution"
   ]
  },
  {
   "cell_type": "code",
   "execution_count": 23,
   "metadata": {},
   "outputs": [
    {
     "data": {
      "text/plain": [
       "20"
      ]
     },
     "execution_count": 23,
     "metadata": {},
     "output_type": "execute_result"
    }
   ],
   "source": [
    "all_genres = sum(df['genres'], [])\n",
    "genre_types = set(all_genres)\n",
    "len(genre_types)"
   ]
  },
  {
   "cell_type": "code",
   "execution_count": 24,
   "metadata": {},
   "outputs": [
    {
     "data": {
      "image/png": "[encoded data removed]",
      "text/plain": [
       "<Figure size 864x1080 with 1 Axes>"
      ]
     },
     "metadata": {
      "needs_background": "light"
     },
     "output_type": "display_data"
    }
   ],
   "source": [
    "all_genres = nltk.FreqDist(all_genres) \n",
    "\n",
    "# create dataframe\n",
    "all_genres_df = pd.DataFrame({'Genre': list(all_genres.keys()), \n",
    "                              'Count': list(all_genres.values())})\n",
    "\n",
    "g = all_genres_df.nlargest(columns=\"Count\", n = 50) \n",
    "plt.figure(figsize=(12,15)) \n",
    "ax = sns.barplot(data=g, x= \"Count\", y = \"Genre\") \n",
    "plt.show()"
   ]
  },
  {
   "cell_type": "markdown",
   "metadata": {},
   "source": [
    "## Text Preprocessing"
   ]
  },
  {
   "cell_type": "code",
   "execution_count": 25,
   "metadata": {},
   "outputs": [],
   "source": [
    "def to_lower(text):\n",
    "    return text.lower()\n",
    "\n",
    "def remove_specials(sentence):\n",
    "    sentence = sentence.replace('-', ' ')\n",
    "    sentence = re.sub(r'[^\\w\\s]', '', sentence)\n",
    "    return sentence\n",
    "\n",
    "def remove_stopwords(tokens):\n",
    "    words = []\n",
    "    for word in tokens:\n",
    "        if word not in nltk.corpus.stopwords.words('english'):\n",
    "            words.append(word)\n",
    "    return words\n",
    "\n",
    "def replace_nums2words(tokens):\n",
    "    e = inflect.engine()\n",
    "    words = []\n",
    "    for word in tokens:\n",
    "        if word.isdigit():\n",
    "            words.append(e.number_to_words(word).replace(',', ''))\n",
    "        else:\n",
    "            words.append(word)\n",
    "    return words\n",
    "\n",
    "def lemmatisation(tokens):\n",
    "    pos_tag = nltk.pos_tag(tokens)\n",
    "    lemmatiser = nltk.WordNetLemmatizer()\n",
    "    wornet_tags = {\"J\": wordnet.ADJ, \"N\": wordnet.NOUN, \"V\": wordnet.VERB, \"R\": wordnet.ADV}\n",
    "    words = []\n",
    "    for word, tag in pos_tag:\n",
    "        proper_tag = wornet_tags.get(tag[0].upper(), wordnet.NOUN)\n",
    "        words.append(lemmatiser.lemmatize(word, proper_tag))\n",
    "    return words\n",
    "\n",
    "def text_preprocessing(text):\n",
    "    # 1. Transform all characters in lowercase\n",
    "    text = to_lower(text)\n",
    "\n",
    "    # 2. Replace all compatibility characters with their equivalents (i.e. accented)\n",
    "    text = unicodedata.normalize('NFKD', text).encode('ascii', 'ignore').decode('utf8')\n",
    "\n",
    "    # 3. Remove special characters (punctuation, extra spaces)\n",
    "    text = remove_specials(text)\n",
    "\n",
    "    # 4. Tokenization\n",
    "    toks = nltk.word_tokenize(text)\n",
    "\n",
    "    # 5. Stopwords removal\n",
    "    toks = remove_stopwords(toks)\n",
    "\n",
    "    # 5. Convert to number to text representation\n",
    "    toks = replace_nums2words(toks)\n",
    "    \n",
    "    # 6. Lemmatisation\n",
    "#     toks = lemmatisation(toks)\n",
    "\n",
    "    return toks"
   ]
  },
  {
   "cell_type": "code",
   "execution_count": 26,
   "metadata": {},
   "outputs": [],
   "source": [
    "df['overview'] = df['overview'].apply(text_preprocessing)"
   ]
  },
  {
   "cell_type": "code",
   "execution_count": 27,
   "metadata": {},
   "outputs": [
    {
     "data": {
      "image/png": "[encoded data removed]",
      "text/plain": [
       "<Figure size 864x1080 with 1 Axes>"
      ]
     },
     "metadata": {
      "needs_background": "light"
     },
     "output_type": "display_data"
    }
   ],
   "source": [
    "def flatten_overview_words(column):\n",
    "    all_words = []\n",
    "    for overview in column.values.tolist():\n",
    "        for word in overview:\n",
    "            all_words.append(word)\n",
    "    return all_words\n",
    "\n",
    "def freq_words(x, terms = 30):\n",
    "    fdist = nltk.FreqDist(x) \n",
    "    words_df = pd.DataFrame({'word':list(fdist.keys()), 'count':list(fdist.values())}) \n",
    "\n",
    "    # selecting top 20 most frequent words \n",
    "    d = words_df.nlargest(columns=\"count\", n = terms) \n",
    "\n",
    "    # visualize words and frequencies\n",
    "    plt.figure(figsize=(12,15)) \n",
    "    ax = sns.barplot(data=d, x= \"count\", y = \"word\") \n",
    "    ax.set(ylabel = 'Word') \n",
    "    plt.show()\n",
    "    \n",
    "# print 100 most frequent words \n",
    "freq_words(flatten_overview_words(df['overview']), 50)"
   ]
  },
  {
   "cell_type": "code",
   "execution_count": 28,
   "metadata": {},
   "outputs": [
    {
     "data": {
      "text/html": [
       "<div>\n",
       "<style scoped>\n",
       "    .dataframe tbody tr th:only-of-type {\n",
       "        vertical-align: middle;\n",
       "    }\n",
       "\n",
       "    .dataframe tbody tr th {\n",
       "        vertical-align: top;\n",
       "    }\n",
       "\n",
       "    .dataframe thead th {\n",
       "        text-align: right;\n",
       "    }\n",
       "</style>\n",
       "<table border=\"1\" class=\"dataframe\">\n",
       "  <thead>\n",
       "    <tr style=\"text-align: right;\">\n",
       "      <th></th>\n",
       "      <th>title</th>\n",
       "      <th>overview</th>\n",
       "      <th>genres</th>\n",
       "    </tr>\n",
       "  </thead>\n",
       "  <tbody>\n",
       "    <tr>\n",
       "      <th>0</th>\n",
       "      <td>Toy Story</td>\n",
       "      <td>toy story led woody andys toys live happily ro...</td>\n",
       "      <td>Animation,Comedy,Family</td>\n",
       "    </tr>\n",
       "    <tr>\n",
       "      <th>1</th>\n",
       "      <td>Jumanji</td>\n",
       "      <td>jumanji siblings judy peter discover enchanted...</td>\n",
       "      <td>Adventure,Fantasy,Family</td>\n",
       "    </tr>\n",
       "    <tr>\n",
       "      <th>2</th>\n",
       "      <td>Grumpier Old Men</td>\n",
       "      <td>grumpier old men family wedding reignites anci...</td>\n",
       "      <td>Romance,Comedy</td>\n",
       "    </tr>\n",
       "    <tr>\n",
       "      <th>3</th>\n",
       "      <td>Waiting to Exhale</td>\n",
       "      <td>waiting to exhale cheated mistreated stepped w...</td>\n",
       "      <td>Comedy,Drama,Romance</td>\n",
       "    </tr>\n",
       "    <tr>\n",
       "      <th>4</th>\n",
       "      <td>Father of the Bride Part II</td>\n",
       "      <td>father of the bride part ii george banks recov...</td>\n",
       "      <td>Comedy</td>\n",
       "    </tr>\n",
       "    <tr>\n",
       "      <th>...</th>\n",
       "      <td>...</td>\n",
       "      <td>...</td>\n",
       "      <td>...</td>\n",
       "    </tr>\n",
       "    <tr>\n",
       "      <th>45458</th>\n",
       "      <td>The Burkittsville 7</td>\n",
       "      <td>the burkittsville 7 film archivist revisits st...</td>\n",
       "      <td>Horror</td>\n",
       "    </tr>\n",
       "    <tr>\n",
       "      <th>45459</th>\n",
       "      <td>Caged Heat 3000</td>\n",
       "      <td>caged heat 3000 year three thousand ad worlds ...</td>\n",
       "      <td>Science Fiction</td>\n",
       "    </tr>\n",
       "    <tr>\n",
       "      <th>45460</th>\n",
       "      <td>Robin Hood</td>\n",
       "      <td>robin hood yet another version classic epic en...</td>\n",
       "      <td>Drama,Action,Romance</td>\n",
       "    </tr>\n",
       "    <tr>\n",
       "      <th>45462</th>\n",
       "      <td>Century of Birthing</td>\n",
       "      <td>century of birthing artist struggles finish wo...</td>\n",
       "      <td>Drama</td>\n",
       "    </tr>\n",
       "    <tr>\n",
       "      <th>45463</th>\n",
       "      <td>Betrayal</td>\n",
       "      <td>betrayal one hits goes wrong professional assa...</td>\n",
       "      <td>Action,Drama,Thriller</td>\n",
       "    </tr>\n",
       "  </tbody>\n",
       "</table>\n",
       "<p>42138 rows × 3 columns</p>\n",
       "</div>"
      ],
      "text/plain": [
       "                             title  \\\n",
       "0                        Toy Story   \n",
       "1                          Jumanji   \n",
       "2                 Grumpier Old Men   \n",
       "3                Waiting to Exhale   \n",
       "4      Father of the Bride Part II   \n",
       "...                            ...   \n",
       "45458          The Burkittsville 7   \n",
       "45459              Caged Heat 3000   \n",
       "45460                   Robin Hood   \n",
       "45462          Century of Birthing   \n",
       "45463                     Betrayal   \n",
       "\n",
       "                                                overview  \\\n",
       "0      toy story led woody andys toys live happily ro...   \n",
       "1      jumanji siblings judy peter discover enchanted...   \n",
       "2      grumpier old men family wedding reignites anci...   \n",
       "3      waiting to exhale cheated mistreated stepped w...   \n",
       "4      father of the bride part ii george banks recov...   \n",
       "...                                                  ...   \n",
       "45458  the burkittsville 7 film archivist revisits st...   \n",
       "45459  caged heat 3000 year three thousand ad worlds ...   \n",
       "45460  robin hood yet another version classic epic en...   \n",
       "45462  century of birthing artist struggles finish wo...   \n",
       "45463  betrayal one hits goes wrong professional assa...   \n",
       "\n",
       "                         genres  \n",
       "0       Animation,Comedy,Family  \n",
       "1      Adventure,Fantasy,Family  \n",
       "2                Romance,Comedy  \n",
       "3          Comedy,Drama,Romance  \n",
       "4                        Comedy  \n",
       "...                         ...  \n",
       "45458                    Horror  \n",
       "45459           Science Fiction  \n",
       "45460      Drama,Action,Romance  \n",
       "45462                     Drama  \n",
       "45463     Action,Drama,Thriller  \n",
       "\n",
       "[42138 rows x 3 columns]"
      ]
     },
     "execution_count": 28,
     "metadata": {},
     "output_type": "execute_result"
    }
   ],
   "source": [
    "new_df = df['title']\n",
    "str_overview = df['overview'].apply(lambda x: ' '.join(x))\n",
    "new_df = pd.concat([new_df, str_overview], axis=1)\n",
    "new_df =  pd.concat([new_df, df['genres']], axis=1)\n",
    "new_df['genres'] = new_df['genres'].apply(lambda x: ','.join(x))\n",
    "new_df['overview'] = new_df['title'].apply(to_lower).astype(str) + ' ' + new_df ['overview']\n",
    "new_df"
   ]
  },
  {
   "cell_type": "markdown",
   "metadata": {},
   "source": [
    "Save the processed data:"
   ]
  },
  {
   "cell_type": "code",
   "execution_count": 29,
   "metadata": {},
   "outputs": [],
   "source": [
    "# new_df.to_csv(\"../data/movies_data_ready.csv\", index=False)"
   ]
  },
  {
   "cell_type": "code",
   "execution_count": null,
   "metadata": {},
   "outputs": [],
   "source": []
  },
  {
   "cell_type": "code",
   "execution_count": null,
   "metadata": {},
   "outputs": [],
   "source": []
  }
 ],
 "metadata": {
  "file_extension": ".py",
  "kernelspec": {
   "display_name": "Python 3",
   "language": "python",
   "name": "python3"
  },
  "language_info": {
   "codemirror_mode": {
    "name": "ipython",
    "version": 3
   },
   "file_extension": ".py",
   "mimetype": "text/x-python",
   "name": "python",
   "nbconvert_exporter": "python",
   "pygments_lexer": "ipython3",
   "version": "3.7.3"
  },
  "mimetype": "text/x-python",
  "name": "python",
  "npconvert_exporter": "python",
  "pygments_lexer": "ipython3",
  "version": 3
 },
 "nbformat": 4,
 "nbformat_minor": 2
}
